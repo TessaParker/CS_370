{
 "cells": [
  {
   "cell_type": "markdown",
   "metadata": {},
   "source": [
    "# Treasure Hunt Game Notebook\n",
    "\n",
    "## Read and Review Your Starter Code\n",
    "The theme of this project is a popular treasure hunt game in which the player needs to find the treasure before the pirate does. While you will not be developing the entire game, you will write the part of the game that represents the intelligent agent, which is a pirate in this case. The pirate will try to find the optimal path to the treasure using deep Q-learning. \n",
    "\n",
    "You have been provided with two Python classes and this notebook to help you with this assignment. The first class, TreasureMaze.py, represents the environment, which includes a maze object defined as a matrix. The second class, GameExperience.py, stores the episodes – that is, all the states that come in between the initial state and the terminal state. This is later used by the agent for learning by experience, called \"exploration\". This notebook shows how to play a game. Your task is to complete the deep Q-learning implementation for which a skeleton implementation has been provided. The code blocks you will need to complete has #TODO as a header.\n",
    "\n",
    "First, read and review the next few code and instruction blocks to understand the code that you have been given."
   ]
  },
  {
   "cell_type": "code",
   "execution_count": 1,
   "metadata": {},
   "outputs": [
    {
     "name": "stderr",
     "output_type": "stream",
     "text": [
      "Using TensorFlow backend.\n"
     ]
    }
   ],
   "source": [
    "from __future__ import print_function\n",
    "import os, sys, time, datetime, json, random\n",
    "import numpy as np\n",
    "from keras.models import Sequential\n",
    "from keras.layers.core import Dense, Activation\n",
    "from keras.optimizers import SGD , Adam, RMSprop\n",
    "from keras.layers.advanced_activations import PReLU\n",
    "import matplotlib.pyplot as plt\n",
    "from TreasureMaze import TreasureMaze\n",
    "from GameExperience import GameExperience\n",
    "%matplotlib inline"
   ]
  },
  {
   "cell_type": "markdown",
   "metadata": {},
   "source": [
    "The following code block contains an 8x8 matrix that will be used as a maze object:"
   ]
  },
  {
   "cell_type": "code",
   "execution_count": 2,
   "metadata": {},
   "outputs": [],
   "source": [
    "maze = np.array([\n",
    "    [ 1.,  0.,  1.,  1.,  1.,  1.,  1.,  1.],\n",
    "    [ 1.,  0.,  1.,  1.,  1.,  0.,  1.,  1.],\n",
    "    [ 1.,  1.,  1.,  1.,  0.,  1.,  0.,  1.],\n",
    "    [ 1.,  1.,  1.,  0.,  1.,  1.,  1.,  1.],\n",
    "    [ 1.,  1.,  0.,  1.,  1.,  1.,  1.,  1.],\n",
    "    [ 1.,  1.,  1.,  0.,  1.,  0.,  0.,  0.],\n",
    "    [ 1.,  1.,  1.,  0.,  1.,  1.,  1.,  1.],\n",
    "    [ 1.,  1.,  1.,  1.,  0.,  1.,  1.,  1.]\n",
    "])"
   ]
  },
  {
   "cell_type": "markdown",
   "metadata": {},
   "source": [
    "This helper function allows a visual representation of the maze object:"
   ]
  },
  {
   "cell_type": "code",
   "execution_count": 3,
   "metadata": {},
   "outputs": [],
   "source": [
    "def show(qmaze):\n",
    "    plt.grid('on')\n",
    "    nrows, ncols = qmaze.maze.shape\n",
    "    ax = plt.gca()\n",
    "    ax.set_xticks(np.arange(0.5, nrows, 1))\n",
    "    ax.set_yticks(np.arange(0.5, ncols, 1))\n",
    "    ax.set_xticklabels([])\n",
    "    ax.set_yticklabels([])\n",
    "    canvas = np.copy(qmaze.maze)\n",
    "    for row,col in qmaze.visited:\n",
    "        canvas[row,col] = 0.6\n",
    "    pirate_row, pirate_col, _ = qmaze.state\n",
    "    canvas[pirate_row, pirate_col] = 0.3   # pirate cell\n",
    "    canvas[nrows-1, ncols-1] = 0.9 # treasure cell\n",
    "    img = plt.imshow(canvas, interpolation='none', cmap='gray')\n",
    "    return img"
   ]
  },
  {
   "cell_type": "markdown",
   "metadata": {},
   "source": [
    "The pirate agent can move in four directions: left, right, up, and down. \n",
    "\n",
    "While the agent primarily learns by experience through exploitation, often, the agent can choose to explore the environment to find previously undiscovered paths. This is called \"exploration\" and is defined by epsilon. This value is typically a lower value such as 0.1, which means for every ten attempts, the agent will attempt to learn by experience nine times and will randomly explore a new path one time. You are encouraged to try various values for the exploration factor and see how the algorithm performs."
   ]
  },
  {
   "cell_type": "code",
   "execution_count": 4,
   "metadata": {},
   "outputs": [],
   "source": [
    "LEFT = 0\n",
    "UP = 1\n",
    "RIGHT = 2\n",
    "DOWN = 3\n",
    "\n",
    "\n",
    "# Exploration factor\n",
    "epsilon = 0.1\n",
    "\n",
    "# Actions dictionary\n",
    "actions_dict = {\n",
    "    LEFT: 'left',\n",
    "    UP: 'up',\n",
    "    RIGHT: 'right',\n",
    "    DOWN: 'down',\n",
    "}\n",
    "\n",
    "num_actions = len(actions_dict)\n"
   ]
  },
  {
   "cell_type": "markdown",
   "metadata": {},
   "source": [
    "The sample code block and output below show creating a maze object and performing one action (DOWN), which returns the reward. The resulting updated environment is visualized."
   ]
  },
  {
   "cell_type": "code",
   "execution_count": 5,
   "metadata": {},
   "outputs": [
    {
     "name": "stdout",
     "output_type": "stream",
     "text": [
      "reward= -0.04\n"
     ]
    },
    {
     "data": {
      "text/plain": [
       "<matplotlib.image.AxesImage at 0x1e0f14f2a88>"
      ]
     },
     "execution_count": 5,
     "metadata": {},
     "output_type": "execute_result"
    },
    {
     "data": {
      "image/png": "[encoded data removed]",
      "text/plain": [
       "<Figure size 432x288 with 1 Axes>"
      ]
     },
     "metadata": {
      "needs_background": "light"
     },
     "output_type": "display_data"
    }
   ],
   "source": [
    "qmaze = TreasureMaze(maze)\n",
    "canvas, reward, game_over = qmaze.act(DOWN)\n",
    "print(\"reward=\", reward)\n",
    "show(qmaze)"
   ]
  },
  {
   "cell_type": "markdown",
   "metadata": {},
   "source": [
    "This function simulates a full game based on the provided trained model. The other parameters include the TreasureMaze object and the starting position of the pirate."
   ]
  },
  {
   "cell_type": "code",
   "execution_count": 6,
   "metadata": {},
   "outputs": [],
   "source": [
    "def play_game(model, qmaze, pirate_cell):\n",
    "    qmaze.reset(pirate_cell)\n",
    "    envstate = qmaze.observe()\n",
    "    while True:\n",
    "        prev_envstate = envstate\n",
    "        # get next action\n",
    "        q = model.predict(prev_envstate)\n",
    "        action = np.argmax(q[0])\n",
    "\n",
    "        # apply action, get rewards and new state\n",
    "        envstate, reward, game_status = qmaze.act(action)\n",
    "        if game_status == 'win':\n",
    "            return True\n",
    "        elif game_status == 'lose':\n",
    "            return False"
   ]
  },
  {
   "cell_type": "markdown",
   "metadata": {},
   "source": [
    "This function helps you to determine whether the pirate can win any game at all. If your maze is not well designed, the pirate may not win any game at all. In this case, your training would not yield any result. The provided maze in this notebook ensures that there is a path to win and you can run this method to check."
   ]
  },
  {
   "cell_type": "code",
   "execution_count": 7,
   "metadata": {},
   "outputs": [],
   "source": [
    "def completion_check(model, qmaze):\n",
    "    for cell in qmaze.free_cells:\n",
    "        if not qmaze.valid_actions(cell):\n",
    "            return False\n",
    "        if not play_game(model, qmaze, cell):\n",
    "            return False\n",
    "    return True"
   ]
  },
  {
   "cell_type": "markdown",
   "metadata": {},
   "source": [
    "The code you have been given in this block will build the neural network model. Review the code and note the number of layers, as well as the activation, optimizer, and loss functions that are used to train the model."
   ]
  },
  {
   "cell_type": "code",
   "execution_count": 8,
   "metadata": {},
   "outputs": [],
   "source": [
    "def build_model(maze):\n",
    "    model = Sequential()\n",
    "    model.add(Dense(maze.size, input_shape=(maze.size,)))\n",
    "    model.add(PReLU())\n",
    "    model.add(Dense(maze.size))\n",
    "    model.add(PReLU())\n",
    "    model.add(Dense(num_actions))\n",
    "    model.compile(optimizer='adam', loss='mse')\n",
    "    return model"
   ]
  },
  {
   "cell_type": "markdown",
   "metadata": {},
   "source": [
    "# #TODO: Complete the Q-Training Algorithm Code Block\n",
    "\n",
    "This is your deep Q-learning implementation. The goal of your deep Q-learning implementation is to find the best possible navigation sequence that results in reaching the treasure cell while maximizing the reward. In your implementation, you need to determine the optimal number of epochs to achieve a 100% win rate.\n",
    "\n",
    "You will need to complete the section starting with #pseudocode. The pseudocode has been included for you."
   ]
  },
  {
   "cell_type": "code",
   "execution_count": 9,
   "metadata": {},
   "outputs": [],
   "source": [
    "def qtrain(model, maze, **opt):\n",
    "\n",
    "    # exploration factor\n",
    "    global epsilon \n",
    "\n",
    "    # number of epochs\n",
    "    n_epoch = opt.get('n_epoch', 300)\n",
    "\n",
    "    # maximum memory to store episodes\n",
    "    max_memory = opt.get('max_memory', 1000)\n",
    "\n",
    "    # maximum data size for training\n",
    "    data_size = opt.get('data_size', 50)\n",
    "\n",
    "    # start time\n",
    "    start_time = datetime.datetime.now()\n",
    "\n",
    "    # Construct environment/game from numpy array: maze (see above)\n",
    "    qmaze = TreasureMaze(maze)\n",
    "\n",
    "    # Initialize experience replay object\n",
    "    experience = GameExperience(model, max_memory=max_memory)\n",
    "    \n",
    "    win_history = []   # history of win/lose game\n",
    "    hsize = qmaze.maze.size//2   # history window size\n",
    "    win_rate = 0.0\n",
    "    decayRate = 0.1\n",
    "\n",
    "    # For each epoch:\n",
    "    for epoch in range(n_epoch):\n",
    "        #    Agent_cell = randomly select a free cell\n",
    "        Agent_cell = random.choice(qmaze.free_cells)\n",
    "        #    Reset the maze with agent set to above position\n",
    "        #    Hint: Review the reset method in the TreasureMaze.py class.\n",
    "        qmaze.reset(Agent_cell)\n",
    "        #game_over = False\n",
    "        \n",
    "        n_episodes = 0\n",
    "        loss = 0.0\n",
    "        gameOver = False\n",
    "\n",
    "        #envstate = Environment.current_state \n",
    "        #Hint: Review the observe method in the TreasureMaze.py class. \n",
    "        envstate = qmaze.observe()\n",
    "        #   While state is not game over:\n",
    "        while not gameOver:\n",
    "        #   previous_envstate = envstate\n",
    "            previous_envstate = envstate\n",
    "        \n",
    "         #  Action = randomly choose action (left, right, up, down) either by exploration or by exploitation\n",
    "            validAction = qmaze.valid_actions()\n",
    "            \n",
    "            if len(validAction) == 0:\n",
    "                break\n",
    "            \n",
    "            if 1 / (1 + epoch * decayRate) < epsilon:\n",
    "                Action = np.argmax(experience.predict(previous_envstate))\n",
    "            else:\n",
    "                Action = random.choice(validAction)\n",
    "                \n",
    "            envstate, reward, game_status = qmaze.act(Action)\n",
    "                \n",
    "            \n",
    "           \n",
    "            #        episode = [previous_envstate, action, reward, envstate, game_status]\n",
    "            #        Store episode in Experience replay object\n",
    "            episode = [previous_envstate, Action, reward, envstate, game_status]\n",
    "            #    Hint: Review the remember method in the GameExperience.py class.\n",
    "            #        Train neural network model and evaluate loss\n",
    "            experience.remember(episode)\n",
    "            \n",
    "            n_episodes += 1\n",
    "            #    Hint: Call GameExperience.get_data to retrieve training data (input and target) and pass to model.fit method \n",
    "            #          to train the model. You can call model.evaluate to determine loss.\n",
    "            inputs, targets = experience.get_data()\n",
    "            \n",
    "            h=model.fit(\n",
    "                inputs,\n",
    "                targets,\n",
    "                epochs = 100,\n",
    "                batch_size = 16,\n",
    "                verbose = 0,\n",
    "            )\n",
    "            \n",
    "            loss = model.evaluate(inputs, targets, verbose = 0)\n",
    "           \n",
    "          \n",
    "                \n",
    "            if game_status == 'win':\n",
    "                win_history.append(1)\n",
    "                gameOver = True\n",
    "            \n",
    "            elif game_status == 'lose':\n",
    "                win_history.append(0)\n",
    "                gameOver = True\n",
    "                \n",
    "            else:\n",
    "                gameOver = False\n",
    "             #    If the win rate is above the threshold and your model passes the completion check, that would be your epoch.    \n",
    "            if len(win_history) > 0:\n",
    "                win_rate = sum(win_history[-hsize:])/hsize\n",
    "            \n",
    "        \n",
    "\n",
    "    #Print the epoch, loss, episodes, win count, and win rate for each epoch\n",
    "        dt = datetime.datetime.now() - start_time\n",
    "        t = format_time(dt.total_seconds())\n",
    "        template = \"Epoch: {:03d}/{:d} | Loss: {:.4f} | Episodes: {:d} | Win count: {:d} | Win rate: {:.3f} | time: {}\"\n",
    "        print(template.format(epoch, n_epoch-1, loss, n_episodes, sum(win_history), win_rate, t))\n",
    "        # We simply check if training has exhausted all free cells and if in all\n",
    "        # cases the agent won.\n",
    "        if win_rate > 0.9 : epsilon = 0.05\n",
    "        if sum(win_history[-hsize:]) == hsize and completion_check(model, qmaze):\n",
    "            print(\"Reached 100%% win rate at epoch: %d\" % (epoch,))\n",
    "            break\n",
    "    \n",
    "    \n",
    "    # Determine the total time for training\n",
    "    dt = datetime.datetime.now() - start_time\n",
    "    seconds = dt.total_seconds()\n",
    "    t = format_time(seconds)\n",
    "\n",
    "    print(\"n_epoch: %d, max_mem: %d, data: %d, time: %s\" % (epoch, max_memory, data_size, t))\n",
    "    return seconds\n",
    "\n",
    "# This is a small utility for printing readable time strings:\n",
    "def format_time(seconds):\n",
    "    if seconds < 400:\n",
    "        s = float(seconds)\n",
    "        return \"%.1f seconds\" % (s,)\n",
    "    elif seconds < 4000:\n",
    "        m = seconds / 60.0\n",
    "        return \"%.2f minutes\" % (m,)\n",
    "    else:\n",
    "        h = seconds / 3600.0\n",
    "        return \"%.2f hours\" % (h,)"
   ]
  },
  {
   "cell_type": "markdown",
   "metadata": {},
   "source": [
    "## Test Your Model\n",
    "\n",
    "Now we will start testing the deep Q-learning implementation. To begin, select **Cell**, then **Run All** from the menu bar. This will run your notebook. As it runs, you should see output begin to appear beneath the next few cells. The code below creates an instance of TreasureMaze."
   ]
  },
  {
   "cell_type": "code",
   "execution_count": 10,
   "metadata": {},
   "outputs": [
    {
     "data": {
      "text/plain": [
       "<matplotlib.image.AxesImage at 0x1e0f15b81c8>"
      ]
     },
     "execution_count": 10,
     "metadata": {},
     "output_type": "execute_result"
    },
    {
     "data": {
      "image/png": "[encoded data removed]",
      "text/plain": [
       "<Figure size 432x288 with 1 Axes>"
      ]
     },
     "metadata": {
      "needs_background": "light"
     },
     "output_type": "display_data"
    }
   ],
   "source": [
    "qmaze = TreasureMaze(maze)\n",
    "show(qmaze)"
   ]
  },
  {
   "cell_type": "markdown",
   "metadata": {},
   "source": [
    "In the next code block, you will build your model and train it using deep Q-learning. Note: This step takes several minutes to fully run."
   ]
  },
  {
   "cell_type": "code",
   "execution_count": 11,
   "metadata": {},
   "outputs": [
    {
     "name": "stdout",
     "output_type": "stream",
     "text": [
      "Epoch: 000/299 | Loss: 0.0000 | Episodes: 139 | Win count: 0 | Win rate: 0.000 | time: 42.2 seconds\n",
      "Epoch: 001/299 | Loss: 0.0002 | Episodes: 143 | Win count: 0 | Win rate: 0.000 | time: 83.8 seconds\n",
      "Epoch: 002/299 | Loss: 0.0006 | Episodes: 150 | Win count: 0 | Win rate: 0.000 | time: 127.1 seconds\n",
      "Epoch: 003/299 | Loss: 0.0013 | Episodes: 29 | Win count: 1 | Win rate: 0.031 | time: 134.4 seconds\n",
      "Epoch: 004/299 | Loss: 0.0000 | Episodes: 73 | Win count: 2 | Win rate: 0.062 | time: 154.0 seconds\n",
      "Epoch: 005/299 | Loss: 0.0000 | Episodes: 69 | Win count: 3 | Win rate: 0.094 | time: 173.2 seconds\n",
      "Epoch: 006/299 | Loss: 0.0000 | Episodes: 153 | Win count: 3 | Win rate: 0.094 | time: 217.1 seconds\n",
      "Epoch: 007/299 | Loss: 0.0000 | Episodes: 154 | Win count: 3 | Win rate: 0.094 | time: 263.3 seconds\n",
      "Epoch: 008/299 | Loss: 0.0006 | Episodes: 153 | Win count: 3 | Win rate: 0.094 | time: 308.1 seconds\n",
      "Epoch: 009/299 | Loss: 0.0000 | Episodes: 149 | Win count: 3 | Win rate: 0.094 | time: 352.2 seconds\n",
      "Epoch: 010/299 | Loss: 0.0013 | Episodes: 45 | Win count: 4 | Win rate: 0.125 | time: 364.4 seconds\n",
      "Epoch: 011/299 | Loss: 0.0000 | Episodes: 139 | Win count: 4 | Win rate: 0.125 | time: 6.73 minutes\n",
      "Epoch: 012/299 | Loss: 0.0000 | Episodes: 158 | Win count: 4 | Win rate: 0.125 | time: 7.46 minutes\n",
      "Epoch: 013/299 | Loss: 0.0001 | Episodes: 149 | Win count: 4 | Win rate: 0.125 | time: 8.17 minutes\n",
      "Epoch: 014/299 | Loss: 0.0001 | Episodes: 157 | Win count: 4 | Win rate: 0.125 | time: 8.96 minutes\n",
      "Epoch: 015/299 | Loss: 0.0000 | Episodes: 150 | Win count: 4 | Win rate: 0.125 | time: 9.81 minutes\n",
      "Epoch: 016/299 | Loss: 0.0000 | Episodes: 153 | Win count: 4 | Win rate: 0.125 | time: 10.53 minutes\n",
      "Epoch: 017/299 | Loss: 0.0002 | Episodes: 143 | Win count: 4 | Win rate: 0.125 | time: 11.20 minutes\n",
      "Epoch: 018/299 | Loss: 0.0010 | Episodes: 149 | Win count: 4 | Win rate: 0.125 | time: 11.94 minutes\n",
      "Epoch: 019/299 | Loss: 0.0000 | Episodes: 141 | Win count: 4 | Win rate: 0.125 | time: 12.57 minutes\n",
      "Epoch: 020/299 | Loss: 0.0000 | Episodes: 2 | Win count: 5 | Win rate: 0.156 | time: 12.58 minutes\n",
      "Epoch: 021/299 | Loss: 0.0000 | Episodes: 147 | Win count: 5 | Win rate: 0.156 | time: 13.25 minutes\n",
      "Epoch: 022/299 | Loss: 0.0006 | Episodes: 148 | Win count: 5 | Win rate: 0.156 | time: 13.93 minutes\n",
      "Epoch: 023/299 | Loss: 0.0010 | Episodes: 98 | Win count: 6 | Win rate: 0.188 | time: 14.40 minutes\n",
      "Epoch: 024/299 | Loss: 0.0000 | Episodes: 150 | Win count: 6 | Win rate: 0.188 | time: 15.10 minutes\n",
      "Epoch: 025/299 | Loss: 0.0002 | Episodes: 60 | Win count: 7 | Win rate: 0.219 | time: 15.38 minutes\n",
      "Epoch: 026/299 | Loss: 0.0001 | Episodes: 52 | Win count: 8 | Win rate: 0.250 | time: 15.61 minutes\n",
      "Epoch: 027/299 | Loss: 0.0005 | Episodes: 4 | Win count: 9 | Win rate: 0.281 | time: 15.63 minutes\n",
      "Epoch: 028/299 | Loss: 0.0002 | Episodes: 148 | Win count: 9 | Win rate: 0.281 | time: 16.30 minutes\n",
      "Epoch: 029/299 | Loss: 0.0002 | Episodes: 144 | Win count: 9 | Win rate: 0.281 | time: 16.97 minutes\n",
      "Epoch: 030/299 | Loss: 0.0000 | Episodes: 149 | Win count: 9 | Win rate: 0.281 | time: 17.71 minutes\n",
      "Epoch: 031/299 | Loss: 0.0001 | Episodes: 144 | Win count: 9 | Win rate: 0.281 | time: 18.42 minutes\n",
      "Epoch: 032/299 | Loss: 0.0000 | Episodes: 4 | Win count: 10 | Win rate: 0.312 | time: 18.44 minutes\n",
      "Epoch: 033/299 | Loss: 0.0000 | Episodes: 141 | Win count: 10 | Win rate: 0.312 | time: 19.12 minutes\n",
      "Epoch: 034/299 | Loss: 0.0000 | Episodes: 144 | Win count: 10 | Win rate: 0.312 | time: 19.85 minutes\n",
      "Epoch: 035/299 | Loss: 0.0006 | Episodes: 100 | Win count: 11 | Win rate: 0.312 | time: 20.35 minutes\n",
      "Epoch: 036/299 | Loss: 0.0000 | Episodes: 119 | Win count: 12 | Win rate: 0.312 | time: 20.98 minutes\n",
      "Epoch: 037/299 | Loss: 0.0001 | Episodes: 108 | Win count: 13 | Win rate: 0.312 | time: 21.53 minutes\n",
      "Epoch: 038/299 | Loss: 0.0000 | Episodes: 148 | Win count: 13 | Win rate: 0.312 | time: 22.28 minutes\n",
      "Epoch: 039/299 | Loss: 0.0006 | Episodes: 147 | Win count: 13 | Win rate: 0.312 | time: 23.03 minutes\n",
      "Epoch: 040/299 | Loss: 0.0000 | Episodes: 145 | Win count: 13 | Win rate: 0.312 | time: 23.74 minutes\n",
      "Epoch: 041/299 | Loss: 0.0007 | Episodes: 4 | Win count: 14 | Win rate: 0.344 | time: 23.76 minutes\n",
      "Epoch: 042/299 | Loss: 0.0010 | Episodes: 150 | Win count: 14 | Win rate: 0.312 | time: 24.48 minutes\n",
      "Epoch: 043/299 | Loss: 0.0001 | Episodes: 144 | Win count: 14 | Win rate: 0.312 | time: 25.25 minutes\n",
      "Epoch: 044/299 | Loss: 0.0006 | Episodes: 147 | Win count: 14 | Win rate: 0.312 | time: 25.99 minutes\n",
      "Epoch: 045/299 | Loss: 0.0000 | Episodes: 142 | Win count: 14 | Win rate: 0.312 | time: 26.64 minutes\n",
      "Epoch: 046/299 | Loss: 0.0001 | Episodes: 146 | Win count: 14 | Win rate: 0.312 | time: 27.32 minutes\n",
      "Epoch: 047/299 | Loss: 0.0001 | Episodes: 131 | Win count: 15 | Win rate: 0.344 | time: 27.93 minutes\n",
      "Epoch: 048/299 | Loss: 0.0006 | Episodes: 144 | Win count: 15 | Win rate: 0.344 | time: 28.58 minutes\n",
      "Epoch: 049/299 | Loss: 0.0002 | Episodes: 149 | Win count: 15 | Win rate: 0.344 | time: 29.29 minutes\n",
      "Epoch: 050/299 | Loss: 0.0002 | Episodes: 150 | Win count: 15 | Win rate: 0.344 | time: 30.00 minutes\n",
      "Epoch: 051/299 | Loss: 0.0000 | Episodes: 150 | Win count: 15 | Win rate: 0.344 | time: 30.73 minutes\n",
      "Epoch: 052/299 | Loss: 0.0004 | Episodes: 148 | Win count: 15 | Win rate: 0.312 | time: 31.41 minutes\n",
      "Epoch: 053/299 | Loss: 0.0017 | Episodes: 144 | Win count: 15 | Win rate: 0.312 | time: 32.11 minutes\n",
      "Epoch: 054/299 | Loss: 0.0006 | Episodes: 149 | Win count: 15 | Win rate: 0.312 | time: 32.89 minutes\n",
      "Epoch: 055/299 | Loss: 0.0002 | Episodes: 153 | Win count: 15 | Win rate: 0.281 | time: 33.62 minutes\n",
      "Epoch: 056/299 | Loss: 0.0013 | Episodes: 143 | Win count: 15 | Win rate: 0.281 | time: 34.30 minutes\n",
      "Epoch: 057/299 | Loss: 0.0002 | Episodes: 145 | Win count: 15 | Win rate: 0.250 | time: 34.97 minutes\n",
      "Epoch: 058/299 | Loss: 0.0006 | Episodes: 150 | Win count: 15 | Win rate: 0.219 | time: 35.68 minutes\n",
      "Epoch: 059/299 | Loss: 0.0004 | Episodes: 153 | Win count: 15 | Win rate: 0.188 | time: 36.42 minutes\n",
      "Epoch: 060/299 | Loss: 0.0010 | Episodes: 150 | Win count: 15 | Win rate: 0.188 | time: 37.13 minutes\n",
      "Epoch: 061/299 | Loss: 0.0007 | Episodes: 12 | Win count: 16 | Win rate: 0.219 | time: 37.19 minutes\n",
      "Epoch: 062/299 | Loss: 0.0000 | Episodes: 149 | Win count: 16 | Win rate: 0.219 | time: 37.90 minutes\n",
      "Epoch: 063/299 | Loss: 0.0001 | Episodes: 150 | Win count: 16 | Win rate: 0.219 | time: 38.62 minutes\n",
      "Epoch: 064/299 | Loss: 0.0000 | Episodes: 1 | Win count: 17 | Win rate: 0.219 | time: 38.63 minutes\n",
      "Epoch: 065/299 | Loss: 0.0006 | Episodes: 150 | Win count: 17 | Win rate: 0.219 | time: 39.32 minutes\n",
      "Epoch: 066/299 | Loss: 0.0011 | Episodes: 75 | Win count: 18 | Win rate: 0.250 | time: 39.66 minutes\n",
      "Epoch: 067/299 | Loss: 0.0000 | Episodes: 137 | Win count: 19 | Win rate: 0.250 | time: 40.30 minutes\n",
      "Epoch: 068/299 | Loss: 0.0001 | Episodes: 148 | Win count: 19 | Win rate: 0.219 | time: 40.95 minutes\n",
      "Epoch: 069/299 | Loss: 0.0017 | Episodes: 51 | Win count: 20 | Win rate: 0.219 | time: 41.18 minutes\n",
      "Epoch: 070/299 | Loss: 0.0004 | Episodes: 147 | Win count: 20 | Win rate: 0.219 | time: 41.84 minutes\n",
      "Epoch: 071/299 | Loss: 0.0000 | Episodes: 150 | Win count: 20 | Win rate: 0.219 | time: 42.53 minutes\n",
      "Epoch: 072/299 | Loss: 0.0003 | Episodes: 47 | Win count: 21 | Win rate: 0.250 | time: 42.77 minutes\n",
      "Epoch: 073/299 | Loss: 0.0000 | Episodes: 123 | Win count: 22 | Win rate: 0.250 | time: 43.35 minutes\n",
      "Epoch: 074/299 | Loss: 0.0001 | Episodes: 152 | Win count: 22 | Win rate: 0.250 | time: 44.10 minutes\n",
      "Epoch: 075/299 | Loss: 0.0001 | Episodes: 144 | Win count: 22 | Win rate: 0.250 | time: 44.77 minutes\n",
      "Epoch: 076/299 | Loss: 0.0007 | Episodes: 143 | Win count: 22 | Win rate: 0.250 | time: 45.44 minutes\n",
      "Epoch: 077/299 | Loss: 0.0013 | Episodes: 145 | Win count: 22 | Win rate: 0.250 | time: 46.08 minutes\n",
      "Epoch: 078/299 | Loss: 0.0009 | Episodes: 147 | Win count: 22 | Win rate: 0.250 | time: 46.76 minutes\n",
      "Epoch: 079/299 | Loss: 0.0010 | Episodes: 156 | Win count: 22 | Win rate: 0.219 | time: 47.50 minutes\n",
      "Epoch: 080/299 | Loss: 0.0001 | Episodes: 152 | Win count: 22 | Win rate: 0.219 | time: 48.20 minutes\n"
     ]
    },
    {
     "name": "stdout",
     "output_type": "stream",
     "text": [
      "Epoch: 081/299 | Loss: 0.0000 | Episodes: 15 | Win count: 23 | Win rate: 0.250 | time: 48.26 minutes\n",
      "Epoch: 082/299 | Loss: 0.0006 | Episodes: 151 | Win count: 23 | Win rate: 0.250 | time: 48.94 minutes\n",
      "Epoch: 083/299 | Loss: 0.0000 | Episodes: 142 | Win count: 23 | Win rate: 0.250 | time: 49.57 minutes\n",
      "Epoch: 084/299 | Loss: 0.0000 | Episodes: 123 | Win count: 24 | Win rate: 0.281 | time: 50.15 minutes\n",
      "Epoch: 085/299 | Loss: 0.0002 | Episodes: 144 | Win count: 24 | Win rate: 0.281 | time: 50.83 minutes\n",
      "Epoch: 086/299 | Loss: 0.0002 | Episodes: 140 | Win count: 24 | Win rate: 0.281 | time: 51.46 minutes\n",
      "Epoch: 087/299 | Loss: 0.0000 | Episodes: 152 | Win count: 24 | Win rate: 0.281 | time: 52.16 minutes\n",
      "Epoch: 088/299 | Loss: 0.0015 | Episodes: 143 | Win count: 24 | Win rate: 0.281 | time: 52.83 minutes\n",
      "Epoch: 089/299 | Loss: 0.0007 | Episodes: 147 | Win count: 24 | Win rate: 0.281 | time: 53.56 minutes\n",
      "Epoch: 090/299 | Loss: 0.0001 | Episodes: 95 | Win count: 25 | Win rate: 0.312 | time: 54.04 minutes\n",
      "Epoch: 091/299 | Loss: 0.0001 | Episodes: 6 | Win count: 26 | Win rate: 0.344 | time: 54.06 minutes\n",
      "Epoch: 092/299 | Loss: 0.0000 | Episodes: 133 | Win count: 26 | Win rate: 0.344 | time: 54.69 minutes\n",
      "Epoch: 093/299 | Loss: 0.0001 | Episodes: 143 | Win count: 26 | Win rate: 0.312 | time: 55.35 minutes\n",
      "Epoch: 094/299 | Loss: 0.0000 | Episodes: 1 | Win count: 27 | Win rate: 0.344 | time: 55.36 minutes\n",
      "Epoch: 095/299 | Loss: 0.0008 | Episodes: 4 | Win count: 28 | Win rate: 0.375 | time: 55.37 minutes\n",
      "Epoch: 096/299 | Loss: 0.0000 | Episodes: 136 | Win count: 28 | Win rate: 0.344 | time: 55.92 minutes\n",
      "Epoch: 097/299 | Loss: 0.0000 | Episodes: 135 | Win count: 28 | Win rate: 0.344 | time: 56.49 minutes\n",
      "Epoch: 098/299 | Loss: 0.0006 | Episodes: 137 | Win count: 28 | Win rate: 0.312 | time: 57.04 minutes\n",
      "Epoch: 099/299 | Loss: 0.0000 | Episodes: 129 | Win count: 28 | Win rate: 0.281 | time: 57.52 minutes\n",
      "Epoch: 100/299 | Loss: 0.0000 | Episodes: 133 | Win count: 28 | Win rate: 0.281 | time: 58.06 minutes\n",
      "Epoch: 101/299 | Loss: 0.0000 | Episodes: 6 | Win count: 29 | Win rate: 0.281 | time: 58.09 minutes\n",
      "Epoch: 102/299 | Loss: 0.0000 | Episodes: 131 | Win count: 29 | Win rate: 0.281 | time: 58.59 minutes\n",
      "Epoch: 103/299 | Loss: 0.0000 | Episodes: 132 | Win count: 29 | Win rate: 0.281 | time: 59.18 minutes\n",
      "Epoch: 104/299 | Loss: 0.0000 | Episodes: 131 | Win count: 29 | Win rate: 0.250 | time: 59.75 minutes\n",
      "Epoch: 105/299 | Loss: 0.0000 | Episodes: 137 | Win count: 29 | Win rate: 0.219 | time: 60.29 minutes\n",
      "Epoch: 106/299 | Loss: 0.0000 | Episodes: 4 | Win count: 30 | Win rate: 0.250 | time: 60.30 minutes\n",
      "Epoch: 107/299 | Loss: 0.0000 | Episodes: 130 | Win count: 30 | Win rate: 0.250 | time: 60.83 minutes\n",
      "Epoch: 108/299 | Loss: 0.0000 | Episodes: 131 | Win count: 30 | Win rate: 0.250 | time: 61.35 minutes\n",
      "Epoch: 109/299 | Loss: 0.0000 | Episodes: 135 | Win count: 30 | Win rate: 0.250 | time: 61.90 minutes\n",
      "Epoch: 110/299 | Loss: 0.0000 | Episodes: 4 | Win count: 31 | Win rate: 0.281 | time: 61.92 minutes\n",
      "Epoch: 111/299 | Loss: 0.0000 | Episodes: 2 | Win count: 32 | Win rate: 0.312 | time: 61.93 minutes\n",
      "Epoch: 112/299 | Loss: 0.0000 | Episodes: 133 | Win count: 32 | Win rate: 0.312 | time: 62.45 minutes\n",
      "Epoch: 113/299 | Loss: 0.0000 | Episodes: 4 | Win count: 33 | Win rate: 0.312 | time: 62.47 minutes\n",
      "Epoch: 114/299 | Loss: 0.0000 | Episodes: 129 | Win count: 33 | Win rate: 0.312 | time: 62.99 minutes\n",
      "Epoch: 115/299 | Loss: 0.0000 | Episodes: 2 | Win count: 34 | Win rate: 0.344 | time: 63.00 minutes\n",
      "Epoch: 116/299 | Loss: 0.0000 | Episodes: 2 | Win count: 35 | Win rate: 0.344 | time: 63.01 minutes\n",
      "Epoch: 117/299 | Loss: 0.0000 | Episodes: 130 | Win count: 35 | Win rate: 0.344 | time: 63.52 minutes\n",
      "Epoch: 118/299 | Loss: 0.0000 | Episodes: 134 | Win count: 35 | Win rate: 0.344 | time: 64.08 minutes\n",
      "Epoch: 119/299 | Loss: 0.0000 | Episodes: 3 | Win count: 36 | Win rate: 0.375 | time: 64.10 minutes\n",
      "Epoch: 120/299 | Loss: 0.0000 | Episodes: 1 | Win count: 37 | Win rate: 0.406 | time: 64.10 minutes\n",
      "Epoch: 121/299 | Loss: 0.0000 | Episodes: 129 | Win count: 37 | Win rate: 0.406 | time: 64.64 minutes\n",
      "Epoch: 122/299 | Loss: 0.0000 | Episodes: 134 | Win count: 37 | Win rate: 0.375 | time: 65.19 minutes\n",
      "Epoch: 123/299 | Loss: 0.0000 | Episodes: 132 | Win count: 37 | Win rate: 0.344 | time: 65.72 minutes\n",
      "Epoch: 124/299 | Loss: 0.0000 | Episodes: 129 | Win count: 37 | Win rate: 0.344 | time: 66.26 minutes\n",
      "Epoch: 125/299 | Loss: 0.0000 | Episodes: 129 | Win count: 37 | Win rate: 0.344 | time: 1.11 hours\n",
      "Epoch: 126/299 | Loss: 0.0000 | Episodes: 133 | Win count: 37 | Win rate: 0.312 | time: 1.12 hours\n",
      "Epoch: 127/299 | Loss: 0.0000 | Episodes: 129 | Win count: 37 | Win rate: 0.281 | time: 1.13 hours\n",
      "Epoch: 128/299 | Loss: 0.0000 | Episodes: 131 | Win count: 37 | Win rate: 0.281 | time: 1.14 hours\n",
      "Epoch: 129/299 | Loss: 0.0000 | Episodes: 9 | Win count: 38 | Win rate: 0.312 | time: 1.14 hours\n",
      "Epoch: 130/299 | Loss: 0.0000 | Episodes: 130 | Win count: 38 | Win rate: 0.312 | time: 1.15 hours\n",
      "Epoch: 131/299 | Loss: 0.0000 | Episodes: 133 | Win count: 38 | Win rate: 0.312 | time: 1.16 hours\n",
      "Epoch: 132/299 | Loss: 0.0000 | Episodes: 134 | Win count: 38 | Win rate: 0.312 | time: 1.17 hours\n",
      "Epoch: 133/299 | Loss: 0.0000 | Episodes: 139 | Win count: 38 | Win rate: 0.281 | time: 1.18 hours\n",
      "Epoch: 134/299 | Loss: 0.0000 | Episodes: 133 | Win count: 38 | Win rate: 0.281 | time: 1.19 hours\n",
      "Epoch: 135/299 | Loss: 0.0000 | Episodes: 13 | Win count: 39 | Win rate: 0.312 | time: 1.19 hours\n",
      "Epoch: 136/299 | Loss: 0.0000 | Episodes: 133 | Win count: 39 | Win rate: 0.312 | time: 1.20 hours\n",
      "Epoch: 137/299 | Loss: 0.0000 | Episodes: 5 | Win count: 40 | Win rate: 0.344 | time: 1.20 hours\n",
      "Epoch: 138/299 | Loss: 0.0000 | Episodes: 135 | Win count: 40 | Win rate: 0.312 | time: 1.21 hours\n",
      "Epoch: 139/299 | Loss: 0.0000 | Episodes: 130 | Win count: 40 | Win rate: 0.312 | time: 1.22 hours\n",
      "Epoch: 140/299 | Loss: 0.0000 | Episodes: 132 | Win count: 40 | Win rate: 0.312 | time: 1.23 hours\n",
      "Epoch: 141/299 | Loss: 0.0000 | Episodes: 133 | Win count: 40 | Win rate: 0.312 | time: 1.24 hours\n",
      "Epoch: 142/299 | Loss: 0.0000 | Episodes: 135 | Win count: 40 | Win rate: 0.281 | time: 1.25 hours\n",
      "Epoch: 143/299 | Loss: 0.0000 | Episodes: 132 | Win count: 40 | Win rate: 0.250 | time: 1.26 hours\n",
      "Epoch: 144/299 | Loss: 0.0000 | Episodes: 131 | Win count: 40 | Win rate: 0.250 | time: 1.26 hours\n",
      "Epoch: 145/299 | Loss: 0.0000 | Episodes: 134 | Win count: 40 | Win rate: 0.219 | time: 1.27 hours\n",
      "Epoch: 146/299 | Loss: 0.0000 | Episodes: 132 | Win count: 40 | Win rate: 0.219 | time: 1.28 hours\n",
      "Epoch: 147/299 | Loss: 0.0006 | Episodes: 132 | Win count: 40 | Win rate: 0.188 | time: 1.29 hours\n",
      "Epoch: 148/299 | Loss: 0.0000 | Episodes: 139 | Win count: 40 | Win rate: 0.156 | time: 1.30 hours\n",
      "Epoch: 149/299 | Loss: 0.0000 | Episodes: 140 | Win count: 40 | Win rate: 0.156 | time: 1.31 hours\n",
      "Epoch: 150/299 | Loss: 0.0000 | Episodes: 131 | Win count: 40 | Win rate: 0.156 | time: 1.32 hours\n",
      "Epoch: 151/299 | Loss: 0.0000 | Episodes: 130 | Win count: 40 | Win rate: 0.125 | time: 1.33 hours\n",
      "Epoch: 152/299 | Loss: 0.0000 | Episodes: 134 | Win count: 40 | Win rate: 0.094 | time: 1.34 hours\n",
      "Epoch: 153/299 | Loss: 0.0000 | Episodes: 132 | Win count: 40 | Win rate: 0.094 | time: 1.35 hours\n",
      "Epoch: 154/299 | Loss: 0.0000 | Episodes: 133 | Win count: 40 | Win rate: 0.094 | time: 1.35 hours\n",
      "Epoch: 155/299 | Loss: 0.0000 | Episodes: 141 | Win count: 40 | Win rate: 0.094 | time: 1.36 hours\n",
      "Epoch: 156/299 | Loss: 0.0000 | Episodes: 135 | Win count: 40 | Win rate: 0.094 | time: 1.37 hours\n",
      "Epoch: 157/299 | Loss: 0.0008 | Episodes: 134 | Win count: 40 | Win rate: 0.094 | time: 1.38 hours\n",
      "Epoch: 158/299 | Loss: 0.0000 | Episodes: 138 | Win count: 40 | Win rate: 0.094 | time: 1.39 hours\n",
      "Epoch: 159/299 | Loss: 0.0006 | Episodes: 143 | Win count: 40 | Win rate: 0.094 | time: 1.40 hours\n",
      "Epoch: 160/299 | Loss: 0.0007 | Episodes: 139 | Win count: 40 | Win rate: 0.094 | time: 1.41 hours\n",
      "Epoch: 161/299 | Loss: 0.0006 | Episodes: 9 | Win count: 41 | Win rate: 0.094 | time: 1.41 hours\n",
      "Epoch: 162/299 | Loss: 0.0000 | Episodes: 2 | Win count: 42 | Win rate: 0.125 | time: 1.41 hours\n"
     ]
    },
    {
     "name": "stdout",
     "output_type": "stream",
     "text": [
      "Epoch: 163/299 | Loss: 0.0001 | Episodes: 136 | Win count: 42 | Win rate: 0.125 | time: 1.42 hours\n",
      "Epoch: 164/299 | Loss: 0.0000 | Episodes: 132 | Win count: 42 | Win rate: 0.125 | time: 1.43 hours\n",
      "Epoch: 165/299 | Loss: 0.0000 | Episodes: 139 | Win count: 42 | Win rate: 0.125 | time: 1.44 hours\n",
      "Epoch: 166/299 | Loss: 0.0000 | Episodes: 134 | Win count: 42 | Win rate: 0.125 | time: 1.45 hours\n",
      "Epoch: 167/299 | Loss: 0.0000 | Episodes: 134 | Win count: 42 | Win rate: 0.094 | time: 1.46 hours\n",
      "Epoch: 168/299 | Loss: 0.0000 | Episodes: 141 | Win count: 42 | Win rate: 0.094 | time: 1.47 hours\n",
      "Epoch: 169/299 | Loss: 0.0006 | Episodes: 135 | Win count: 42 | Win rate: 0.062 | time: 1.47 hours\n",
      "Epoch: 170/299 | Loss: 0.0005 | Episodes: 139 | Win count: 42 | Win rate: 0.062 | time: 1.48 hours\n",
      "Epoch: 171/299 | Loss: 0.0000 | Episodes: 134 | Win count: 42 | Win rate: 0.062 | time: 1.49 hours\n",
      "Epoch: 172/299 | Loss: 0.0000 | Episodes: 138 | Win count: 42 | Win rate: 0.062 | time: 1.50 hours\n",
      "Epoch: 173/299 | Loss: 0.0000 | Episodes: 141 | Win count: 42 | Win rate: 0.062 | time: 1.51 hours\n",
      "Epoch: 174/299 | Loss: 0.0000 | Episodes: 135 | Win count: 42 | Win rate: 0.062 | time: 1.52 hours\n",
      "Epoch: 175/299 | Loss: 0.0000 | Episodes: 132 | Win count: 42 | Win rate: 0.062 | time: 1.53 hours\n",
      "Epoch: 176/299 | Loss: 0.0000 | Episodes: 129 | Win count: 42 | Win rate: 0.062 | time: 1.54 hours\n",
      "Epoch: 177/299 | Loss: 0.0000 | Episodes: 37 | Win count: 43 | Win rate: 0.094 | time: 1.54 hours\n",
      "Epoch: 178/299 | Loss: 0.0000 | Episodes: 142 | Win count: 43 | Win rate: 0.094 | time: 1.55 hours\n",
      "Epoch: 179/299 | Loss: 0.0000 | Episodes: 137 | Win count: 43 | Win rate: 0.094 | time: 1.56 hours\n",
      "Epoch: 180/299 | Loss: 0.0000 | Episodes: 8 | Win count: 44 | Win rate: 0.125 | time: 1.56 hours\n",
      "Epoch: 181/299 | Loss: 0.0000 | Episodes: 133 | Win count: 44 | Win rate: 0.125 | time: 1.57 hours\n",
      "Epoch: 182/299 | Loss: 0.0000 | Episodes: 131 | Win count: 44 | Win rate: 0.125 | time: 1.58 hours\n",
      "Epoch: 183/299 | Loss: 0.0000 | Episodes: 131 | Win count: 44 | Win rate: 0.125 | time: 1.59 hours\n",
      "Epoch: 184/299 | Loss: 0.0000 | Episodes: 6 | Win count: 45 | Win rate: 0.156 | time: 1.59 hours\n",
      "Epoch: 185/299 | Loss: 0.0000 | Episodes: 129 | Win count: 45 | Win rate: 0.156 | time: 1.60 hours\n",
      "Epoch: 186/299 | Loss: 0.0000 | Episodes: 133 | Win count: 45 | Win rate: 0.156 | time: 1.60 hours\n",
      "Epoch: 187/299 | Loss: 0.0000 | Episodes: 131 | Win count: 45 | Win rate: 0.156 | time: 1.61 hours\n",
      "Epoch: 188/299 | Loss: 0.0000 | Episodes: 132 | Win count: 45 | Win rate: 0.156 | time: 1.62 hours\n",
      "Epoch: 189/299 | Loss: 0.0000 | Episodes: 2 | Win count: 46 | Win rate: 0.188 | time: 1.62 hours\n",
      "Epoch: 190/299 | Loss: 0.0000 | Episodes: 133 | Win count: 46 | Win rate: 0.188 | time: 1.63 hours\n",
      "Epoch: 191/299 | Loss: 0.0000 | Episodes: 2 | Win count: 47 | Win rate: 0.219 | time: 1.63 hours\n",
      "Epoch: 192/299 | Loss: 0.0000 | Episodes: 133 | Win count: 47 | Win rate: 0.219 | time: 1.64 hours\n",
      "Epoch: 193/299 | Loss: 0.0000 | Episodes: 139 | Win count: 47 | Win rate: 0.188 | time: 1.65 hours\n",
      "Epoch: 194/299 | Loss: 0.0000 | Episodes: 132 | Win count: 47 | Win rate: 0.156 | time: 1.66 hours\n",
      "Epoch: 195/299 | Loss: 0.0006 | Episodes: 132 | Win count: 47 | Win rate: 0.156 | time: 1.66 hours\n",
      "Epoch: 196/299 | Loss: 0.0000 | Episodes: 6 | Win count: 48 | Win rate: 0.188 | time: 1.66 hours\n",
      "Epoch: 197/299 | Loss: 0.0000 | Episodes: 4 | Win count: 49 | Win rate: 0.219 | time: 1.67 hours\n",
      "Epoch: 198/299 | Loss: 0.0006 | Episodes: 130 | Win count: 49 | Win rate: 0.219 | time: 1.67 hours\n",
      "Epoch: 199/299 | Loss: 0.0000 | Episodes: 131 | Win count: 49 | Win rate: 0.219 | time: 1.68 hours\n",
      "Epoch: 200/299 | Loss: 0.0000 | Episodes: 8 | Win count: 50 | Win rate: 0.250 | time: 1.68 hours\n",
      "Epoch: 201/299 | Loss: 0.0000 | Episodes: 133 | Win count: 50 | Win rate: 0.250 | time: 1.69 hours\n",
      "Epoch: 202/299 | Loss: 0.0000 | Episodes: 133 | Win count: 50 | Win rate: 0.250 | time: 1.70 hours\n",
      "Epoch: 203/299 | Loss: 0.0002 | Episodes: 129 | Win count: 50 | Win rate: 0.250 | time: 1.71 hours\n",
      "Epoch: 204/299 | Loss: 0.0000 | Episodes: 131 | Win count: 50 | Win rate: 0.250 | time: 1.72 hours\n",
      "Epoch: 205/299 | Loss: 0.0001 | Episodes: 133 | Win count: 50 | Win rate: 0.250 | time: 1.72 hours\n",
      "Epoch: 206/299 | Loss: 0.0003 | Episodes: 10 | Win count: 51 | Win rate: 0.281 | time: 1.72 hours\n",
      "Epoch: 207/299 | Loss: 0.0000 | Episodes: 132 | Win count: 51 | Win rate: 0.281 | time: 1.73 hours\n",
      "Epoch: 208/299 | Loss: 0.0000 | Episodes: 134 | Win count: 51 | Win rate: 0.281 | time: 1.74 hours\n",
      "Epoch: 209/299 | Loss: 0.0000 | Episodes: 136 | Win count: 51 | Win rate: 0.250 | time: 1.75 hours\n",
      "Epoch: 210/299 | Loss: 0.0000 | Episodes: 129 | Win count: 51 | Win rate: 0.250 | time: 1.76 hours\n",
      "Epoch: 211/299 | Loss: 0.0000 | Episodes: 133 | Win count: 51 | Win rate: 0.250 | time: 1.77 hours\n",
      "Epoch: 212/299 | Loss: 0.0000 | Episodes: 135 | Win count: 51 | Win rate: 0.219 | time: 1.78 hours\n",
      "Epoch: 213/299 | Loss: 0.0001 | Episodes: 134 | Win count: 51 | Win rate: 0.219 | time: 1.79 hours\n",
      "Epoch: 214/299 | Loss: 0.0000 | Episodes: 130 | Win count: 51 | Win rate: 0.219 | time: 1.79 hours\n",
      "Epoch: 215/299 | Loss: 0.0000 | Episodes: 2 | Win count: 52 | Win rate: 0.250 | time: 1.79 hours\n",
      "Epoch: 216/299 | Loss: 0.0000 | Episodes: 139 | Win count: 52 | Win rate: 0.219 | time: 1.80 hours\n",
      "Epoch: 217/299 | Loss: 0.0008 | Episodes: 131 | Win count: 52 | Win rate: 0.219 | time: 1.81 hours\n",
      "Epoch: 218/299 | Loss: 0.0000 | Episodes: 133 | Win count: 52 | Win rate: 0.219 | time: 1.82 hours\n",
      "Epoch: 219/299 | Loss: 0.0007 | Episodes: 134 | Win count: 52 | Win rate: 0.219 | time: 1.83 hours\n",
      "Epoch: 220/299 | Loss: 0.0006 | Episodes: 13 | Win count: 53 | Win rate: 0.250 | time: 1.83 hours\n",
      "Epoch: 221/299 | Loss: 0.0000 | Episodes: 133 | Win count: 53 | Win rate: 0.219 | time: 1.84 hours\n",
      "Epoch: 222/299 | Loss: 0.0000 | Episodes: 136 | Win count: 53 | Win rate: 0.219 | time: 1.85 hours\n",
      "Epoch: 223/299 | Loss: 0.0000 | Episodes: 2 | Win count: 54 | Win rate: 0.219 | time: 1.85 hours\n",
      "Epoch: 224/299 | Loss: 0.0000 | Episodes: 7 | Win count: 55 | Win rate: 0.250 | time: 1.85 hours\n",
      "Epoch: 225/299 | Loss: 0.0000 | Episodes: 3 | Win count: 56 | Win rate: 0.281 | time: 1.85 hours\n",
      "Epoch: 226/299 | Loss: 0.0000 | Episodes: 98 | Win count: 57 | Win rate: 0.312 | time: 1.86 hours\n",
      "Epoch: 227/299 | Loss: 0.0000 | Episodes: 37 | Win count: 58 | Win rate: 0.344 | time: 1.86 hours\n",
      "Epoch: 228/299 | Loss: 0.0000 | Episodes: 131 | Win count: 58 | Win rate: 0.312 | time: 1.87 hours\n",
      "Epoch: 229/299 | Loss: 0.0000 | Episodes: 10 | Win count: 59 | Win rate: 0.312 | time: 1.87 hours\n",
      "Epoch: 230/299 | Loss: 0.0000 | Episodes: 18 | Win count: 60 | Win rate: 0.344 | time: 1.87 hours\n",
      "Epoch: 231/299 | Loss: 0.0000 | Episodes: 137 | Win count: 60 | Win rate: 0.344 | time: 1.88 hours\n",
      "Epoch: 232/299 | Loss: 0.0000 | Episodes: 86 | Win count: 61 | Win rate: 0.344 | time: 1.88 hours\n",
      "Epoch: 233/299 | Loss: 0.0005 | Episodes: 11 | Win count: 62 | Win rate: 0.375 | time: 1.88 hours\n",
      "Epoch: 234/299 | Loss: 0.0000 | Episodes: 132 | Win count: 62 | Win rate: 0.375 | time: 1.89 hours\n",
      "Epoch: 235/299 | Loss: 0.0000 | Episodes: 7 | Win count: 63 | Win rate: 0.406 | time: 1.89 hours\n",
      "Epoch: 236/299 | Loss: 0.0000 | Episodes: 11 | Win count: 64 | Win rate: 0.438 | time: 1.89 hours\n",
      "Epoch: 237/299 | Loss: 0.0000 | Episodes: 7 | Win count: 65 | Win rate: 0.469 | time: 1.89 hours\n",
      "Epoch: 238/299 | Loss: 0.0000 | Episodes: 131 | Win count: 65 | Win rate: 0.438 | time: 1.90 hours\n",
      "Epoch: 239/299 | Loss: 0.0000 | Episodes: 135 | Win count: 65 | Win rate: 0.438 | time: 1.91 hours\n",
      "Epoch: 240/299 | Loss: 0.0000 | Episodes: 131 | Win count: 65 | Win rate: 0.438 | time: 1.92 hours\n",
      "Epoch: 241/299 | Loss: 0.0000 | Episodes: 33 | Win count: 66 | Win rate: 0.469 | time: 1.92 hours\n",
      "Epoch: 242/299 | Loss: 0.0000 | Episodes: 137 | Win count: 66 | Win rate: 0.469 | time: 1.93 hours\n",
      "Epoch: 243/299 | Loss: 0.0000 | Episodes: 147 | Win count: 66 | Win rate: 0.469 | time: 1.94 hours\n",
      "Epoch: 244/299 | Loss: 0.0000 | Episodes: 61 | Win count: 67 | Win rate: 0.500 | time: 1.95 hours\n",
      "Epoch: 245/299 | Loss: 0.0000 | Episodes: 138 | Win count: 67 | Win rate: 0.500 | time: 1.95 hours\n",
      "Epoch: 246/299 | Loss: 0.0000 | Episodes: 136 | Win count: 67 | Win rate: 0.500 | time: 1.96 hours\n"
     ]
    },
    {
     "name": "stdout",
     "output_type": "stream",
     "text": [
      "Epoch: 247/299 | Loss: 0.0000 | Episodes: 137 | Win count: 67 | Win rate: 0.469 | time: 1.97 hours\n",
      "Epoch: 248/299 | Loss: 0.0000 | Episodes: 130 | Win count: 67 | Win rate: 0.469 | time: 1.98 hours\n",
      "Epoch: 249/299 | Loss: 0.0000 | Episodes: 129 | Win count: 67 | Win rate: 0.469 | time: 1.99 hours\n",
      "Epoch: 250/299 | Loss: 0.0000 | Episodes: 123 | Win count: 68 | Win rate: 0.500 | time: 2.00 hours\n",
      "Epoch: 251/299 | Loss: 0.0000 | Episodes: 130 | Win count: 68 | Win rate: 0.500 | time: 2.01 hours\n",
      "Epoch: 252/299 | Loss: 0.0000 | Episodes: 129 | Win count: 68 | Win rate: 0.469 | time: 2.02 hours\n",
      "Epoch: 253/299 | Loss: 0.0000 | Episodes: 63 | Win count: 69 | Win rate: 0.500 | time: 2.03 hours\n",
      "Epoch: 254/299 | Loss: 0.0005 | Episodes: 130 | Win count: 69 | Win rate: 0.500 | time: 2.04 hours\n",
      "Epoch: 255/299 | Loss: 0.0000 | Episodes: 144 | Win count: 69 | Win rate: 0.469 | time: 2.05 hours\n",
      "Epoch: 256/299 | Loss: 0.0000 | Episodes: 4 | Win count: 70 | Win rate: 0.469 | time: 2.05 hours\n",
      "Epoch: 257/299 | Loss: 0.0000 | Episodes: 134 | Win count: 70 | Win rate: 0.438 | time: 2.06 hours\n",
      "Epoch: 258/299 | Loss: 0.0000 | Episodes: 134 | Win count: 70 | Win rate: 0.406 | time: 2.07 hours\n",
      "Epoch: 259/299 | Loss: 0.0013 | Episodes: 147 | Win count: 70 | Win rate: 0.375 | time: 2.08 hours\n",
      "Epoch: 260/299 | Loss: 0.0000 | Episodes: 1 | Win count: 71 | Win rate: 0.406 | time: 2.08 hours\n",
      "Epoch: 261/299 | Loss: 0.0007 | Episodes: 139 | Win count: 71 | Win rate: 0.375 | time: 2.09 hours\n",
      "Epoch: 262/299 | Loss: 0.0001 | Episodes: 134 | Win count: 71 | Win rate: 0.344 | time: 2.10 hours\n",
      "Epoch: 263/299 | Loss: 0.0000 | Episodes: 128 | Win count: 72 | Win rate: 0.375 | time: 2.11 hours\n",
      "Epoch: 264/299 | Loss: 0.0000 | Episodes: 141 | Win count: 72 | Win rate: 0.344 | time: 2.12 hours\n",
      "Epoch: 265/299 | Loss: 0.0000 | Episodes: 135 | Win count: 72 | Win rate: 0.312 | time: 2.13 hours\n",
      "Epoch: 266/299 | Loss: 0.0015 | Episodes: 138 | Win count: 72 | Win rate: 0.312 | time: 2.13 hours\n",
      "Epoch: 267/299 | Loss: 0.0000 | Episodes: 141 | Win count: 72 | Win rate: 0.281 | time: 2.14 hours\n",
      "Epoch: 268/299 | Loss: 0.0000 | Episodes: 134 | Win count: 72 | Win rate: 0.250 | time: 2.15 hours\n",
      "Epoch: 269/299 | Loss: 0.0000 | Episodes: 139 | Win count: 72 | Win rate: 0.219 | time: 2.16 hours\n",
      "Epoch: 270/299 | Loss: 0.0000 | Episodes: 134 | Win count: 72 | Win rate: 0.219 | time: 2.17 hours\n",
      "Epoch: 271/299 | Loss: 0.0002 | Episodes: 72 | Win count: 73 | Win rate: 0.250 | time: 2.18 hours\n",
      "Epoch: 272/299 | Loss: 0.0000 | Episodes: 133 | Win count: 73 | Win rate: 0.250 | time: 2.19 hours\n",
      "Epoch: 273/299 | Loss: 0.0000 | Episodes: 134 | Win count: 73 | Win rate: 0.219 | time: 2.20 hours\n",
      "Epoch: 274/299 | Loss: 0.0000 | Episodes: 133 | Win count: 73 | Win rate: 0.219 | time: 2.20 hours\n",
      "Epoch: 275/299 | Loss: 0.0000 | Episodes: 139 | Win count: 73 | Win rate: 0.219 | time: 2.21 hours\n",
      "Epoch: 276/299 | Loss: 0.0006 | Episodes: 1 | Win count: 74 | Win rate: 0.219 | time: 2.21 hours\n",
      "Epoch: 277/299 | Loss: 0.0000 | Episodes: 135 | Win count: 74 | Win rate: 0.219 | time: 2.22 hours\n",
      "Epoch: 278/299 | Loss: 0.0000 | Episodes: 138 | Win count: 74 | Win rate: 0.219 | time: 2.23 hours\n",
      "Epoch: 279/299 | Loss: 0.0000 | Episodes: 109 | Win count: 75 | Win rate: 0.250 | time: 2.24 hours\n",
      "Epoch: 280/299 | Loss: 0.0000 | Episodes: 27 | Win count: 76 | Win rate: 0.281 | time: 2.24 hours\n",
      "Epoch: 281/299 | Loss: 0.0002 | Episodes: 7 | Win count: 77 | Win rate: 0.312 | time: 2.24 hours\n",
      "Epoch: 282/299 | Loss: 0.0000 | Episodes: 26 | Win count: 78 | Win rate: 0.312 | time: 2.24 hours\n",
      "Epoch: 283/299 | Loss: 0.0000 | Episodes: 9 | Win count: 79 | Win rate: 0.344 | time: 2.24 hours\n",
      "Epoch: 284/299 | Loss: 0.0000 | Episodes: 137 | Win count: 79 | Win rate: 0.344 | time: 2.25 hours\n",
      "Epoch: 285/299 | Loss: 0.0000 | Episodes: 64 | Win count: 80 | Win rate: 0.344 | time: 2.26 hours\n",
      "Epoch: 286/299 | Loss: 0.0000 | Episodes: 26 | Win count: 81 | Win rate: 0.375 | time: 2.26 hours\n",
      "Epoch: 287/299 | Loss: 0.0019 | Episodes: 30 | Win count: 82 | Win rate: 0.406 | time: 2.26 hours\n",
      "Epoch: 288/299 | Loss: 0.0006 | Episodes: 133 | Win count: 82 | Win rate: 0.375 | time: 2.27 hours\n",
      "Epoch: 289/299 | Loss: 0.0000 | Episodes: 136 | Win count: 82 | Win rate: 0.375 | time: 2.28 hours\n",
      "Epoch: 290/299 | Loss: 0.0000 | Episodes: 138 | Win count: 82 | Win rate: 0.375 | time: 2.29 hours\n",
      "Epoch: 291/299 | Loss: 0.0000 | Episodes: 142 | Win count: 82 | Win rate: 0.375 | time: 2.30 hours\n",
      "Epoch: 292/299 | Loss: 0.0000 | Episodes: 80 | Win count: 83 | Win rate: 0.375 | time: 2.31 hours\n",
      "Epoch: 293/299 | Loss: 0.0000 | Episodes: 57 | Win count: 84 | Win rate: 0.406 | time: 2.31 hours\n",
      "Epoch: 294/299 | Loss: 0.0000 | Episodes: 139 | Win count: 84 | Win rate: 0.406 | time: 2.32 hours\n",
      "Epoch: 295/299 | Loss: 0.0001 | Episodes: 140 | Win count: 84 | Win rate: 0.375 | time: 2.33 hours\n",
      "Epoch: 296/299 | Loss: 0.0000 | Episodes: 129 | Win count: 84 | Win rate: 0.375 | time: 2.34 hours\n",
      "Epoch: 297/299 | Loss: 0.0000 | Episodes: 138 | Win count: 84 | Win rate: 0.375 | time: 2.35 hours\n",
      "Epoch: 298/299 | Loss: 0.0000 | Episodes: 142 | Win count: 84 | Win rate: 0.375 | time: 2.36 hours\n",
      "Epoch: 299/299 | Loss: 0.0000 | Episodes: 132 | Win count: 84 | Win rate: 0.375 | time: 2.37 hours\n",
      "n_epoch: 299, max_mem: 512, data: 32, time: 2.37 hours\n"
     ]
    },
    {
     "data": {
      "text/plain": [
       "8519.14379"
      ]
     },
     "execution_count": 11,
     "metadata": {},
     "output_type": "execute_result"
    }
   ],
   "source": [
    "model = build_model(maze)\n",
    "qtrain(model, maze, epochs=100, max_memory=8*maze.size, data_size=32)"
   ]
  },
  {
   "cell_type": "markdown",
   "metadata": {},
   "source": [
    "This cell will check to see if the model passes the completion check. Note: This could take several minutes."
   ]
  },
  {
   "cell_type": "code",
   "execution_count": 12,
   "metadata": {},
   "outputs": [
    {
     "data": {
      "text/plain": [
       "<matplotlib.image.AxesImage at 0x1e0f4e94908>"
      ]
     },
     "execution_count": 12,
     "metadata": {},
     "output_type": "execute_result"
    },
    {
     "data": {
      "image/png": "[encoded data removed]",
      "text/plain": [
       "<Figure size 432x288 with 1 Axes>"
      ]
     },
     "metadata": {
      "needs_background": "light"
     },
     "output_type": "display_data"
    }
   ],
   "source": [
    "completion_check(model, qmaze)\n",
    "show(qmaze)"
   ]
  },
  {
   "cell_type": "markdown",
   "metadata": {},
   "source": [
    "This cell will test your model for one game. It will start the pirate at the top-left corner and run play_game. The agent should find a path from the starting position to the target (treasure). The treasure is located in the bottom-right corner."
   ]
  },
  {
   "cell_type": "code",
   "execution_count": 13,
   "metadata": {},
   "outputs": [
    {
     "data": {
      "text/plain": [
       "<matplotlib.image.AxesImage at 0x1e0f5000588>"
      ]
     },
     "execution_count": 13,
     "metadata": {},
     "output_type": "execute_result"
    },
    {
     "data": {
      "image/png": "[encoded data removed]",
      "text/plain": [
       "<Figure size 432x288 with 1 Axes>"
      ]
     },
     "metadata": {
      "needs_background": "light"
     },
     "output_type": "display_data"
    }
   ],
   "source": [
    "pirate_start = (0, 0)\n",
    "play_game(model, qmaze, pirate_start)\n",
    "show(qmaze)"
   ]
  },
  {
   "cell_type": "markdown",
   "metadata": {},
   "source": [
    "## Save and Submit Your Work\n",
    "After you have finished creating the code for your notebook, save your work. Make sure that your notebook contains your name in the filename (e.g. Doe_Jane_ProjectTwo.ipynb). This will help your instructor access and grade your work easily. Download a copy of your IPYNB file and submit it to Brightspace. Refer to the Jupyter Notebook in Apporto Tutorial if you need help with these tasks."
   ]
  }
 ],
 "metadata": {
  "kernelspec": {
   "display_name": "Python 3",
   "language": "python",
   "name": "python3"
  },
  "language_info": {
   "codemirror_mode": {
    "name": "ipython",
    "version": 3
   },
   "file_extension": ".py",
   "mimetype": "text/x-python",
   "name": "python",
   "nbconvert_exporter": "python",
   "pygments_lexer": "ipython3",
   "version": "3.7.4"
  }
 },
 "nbformat": 4,
 "nbformat_minor": 2
}
